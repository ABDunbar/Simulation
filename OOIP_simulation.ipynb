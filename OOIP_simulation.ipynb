{
 "cells": [
  {
   "cell_type": "code",
   "execution_count": 1,
   "metadata": {},
   "outputs": [],
   "source": [
    "from scipy.stats import norm, lognorm\n",
    "import numpy as np\n",
    "import matplotlib.pyplot as plt"
   ]
  },
  {
   "cell_type": "code",
   "execution_count": 2,
   "metadata": {},
   "outputs": [],
   "source": [
    "# The location (loc) keyword specifies the mean. \n",
    "# The scale (scale) keyword specifies the standard deviation."
   ]
  },
  {
   "cell_type": "code",
   "execution_count": 77,
   "metadata": {},
   "outputs": [],
   "source": [
    "ACRE_FT_CONVERT = 7758\n",
    "# (mean, stddev)\n",
    "A = 1000, 100, 'norm'\n",
    "h = 30, 2, 'norm'\n",
    "phi = 0.25, 0.05, 'lognorm'\n",
    "Sw = 0.1, 0.05, 'lognorm'\n",
    "Boi = 1.1, 0.05, 'lognorm'"
   ]
  },
  {
   "cell_type": "code",
   "execution_count": 4,
   "metadata": {},
   "outputs": [
    {
     "name": "stdout",
     "output_type": "stream",
     "text": [
      "Original Oil in Place (OOIP): 47605909 barrels.\n"
     ]
    }
   ],
   "source": [
    "ooip_static = (ACRE_FT_CONVERT * A[0] * h[0] * phi[0] * (1 - Sw[0])) / Boi[0]\n",
    "print(f\"Original Oil in Place (OOIP): {ooip_static:.0f} barrels.\")"
   ]
  },
  {
   "cell_type": "code",
   "execution_count": 47,
   "metadata": {},
   "outputs": [],
   "source": [
    "parameters = [A, h, phi, Sw, Boi]"
   ]
  },
  {
   "cell_type": "code",
   "execution_count": 64,
   "metadata": {},
   "outputs": [],
   "source": [
    "def normal(loc, scale):\n",
    "    return norm.rvs(size=1, loc=loc, scale=scale)[0]"
   ]
  },
  {
   "cell_type": "code",
   "execution_count": 68,
   "metadata": {},
   "outputs": [],
   "source": [
    "def lognormal(loc, scale):\n",
    "    return lognorm.rvs(s=1, size=1, loc=loc, scale=scale)[0]"
   ]
  },
  {
   "cell_type": "code",
   "execution_count": 78,
   "metadata": {},
   "outputs": [],
   "source": [
    "def distribution(runs):\n",
    "    ooip_list = []\n",
    "\n",
    "    for i in range(runs):\n",
    "        parameter_list = []\n",
    "        for parameter in parameters:\n",
    "            if parameter[2] == 'norm':\n",
    "                parameter_list.append(normal(parameter[0], parameter[1]))\n",
    "            elif parameter[2] == 'lognorm':\n",
    "                parameter_list.append(lognormal(parameter[0], parameter[1]))\n",
    "        ooip = (ACRE_FT_CONVERT * parameter_list[0] * parameter_list[1] * parameter_list[2] * (1 - parameter_list[3])) / parameter_list[4]\n",
    "        ooip_list.append(ooip)\n",
    "    return ooip_list"
   ]
  },
  {
   "cell_type": "code",
   "execution_count": 80,
   "metadata": {},
   "outputs": [],
   "source": [
    "sim = distribution(1000)"
   ]
  },
  {
   "cell_type": "code",
   "execution_count": 81,
   "metadata": {},
   "outputs": [
    {
     "data": {
      "image/png": "[encoded data removed]",
      "text/plain": [
       "<Figure size 864x432 with 1 Axes>"
      ]
     },
     "metadata": {
      "needs_background": "light"
     },
     "output_type": "display_data"
    }
   ],
   "source": [
    "plt.figure(figsize=(12,6))\n",
    "plt.hist(sim, bins=50);"
   ]
  },
  {
   "cell_type": "code",
   "execution_count": null,
   "metadata": {},
   "outputs": [],
   "source": []
  }
 ],
 "metadata": {
  "kernelspec": {
   "display_name": "Python 3",
   "language": "python",
   "name": "python3"
  },
  "language_info": {
   "codemirror_mode": {
    "name": "ipython",
    "version": 3
   },
   "file_extension": ".py",
   "mimetype": "text/x-python",
   "name": "python",
   "nbconvert_exporter": "python",
   "pygments_lexer": "ipython3",
   "version": "3.8.5"
  }
 },
 "nbformat": 4,
 "nbformat_minor": 4
}
